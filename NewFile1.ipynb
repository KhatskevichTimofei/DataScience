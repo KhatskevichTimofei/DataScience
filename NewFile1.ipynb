{
 "cells": [
  {
   "cell_type": "code",
   "execution_count": 2,
   "metadata": {},
   "outputs": [
    {
     "name": "stdout",
     "output_type": "stream",
     "text": [
      "Hello World\n"
     ]
    }
   ],
   "source": [
    "print (\"Hello World\")"
   ]
  },
  {
   "cell_type": "code",
   "execution_count": 3,
   "metadata": {},
   "outputs": [],
   "source": [
    "#Shift + Enter - выполняет код\n",
    "#Комментарий, не имеет отношения к коду"
   ]
  },
  {
   "cell_type": "code",
   "execution_count": 4,
   "metadata": {},
   "outputs": [
    {
     "name": "stdout",
     "output_type": "stream",
     "text": [
      "Сегодня 11 февраля 2020 года\n",
      "Завтра 12 февраля 2020 года\n",
      "Вчера 10 февраля 2020 года\n",
      "Сегодня началось изучение Data Science\n"
     ]
    }
   ],
   "source": [
    "print (\"Сегодня 11 февраля 2020 года\")\n",
    "print (\"Завтра 12 февраля 2020 года\")\n",
    "print (\"Вчера 10 февраля 2020 года\")\n",
    "print (\"Сегодня началось изучение Data Science\")"
   ]
  },
  {
   "cell_type": "code",
   "execution_count": 7,
   "metadata": {},
   "outputs": [],
   "source": [
    "company = \"Data Science\""
   ]
  },
  {
   "cell_type": "code",
   "execution_count": 8,
   "metadata": {},
   "outputs": [
    {
     "name": "stdout",
     "output_type": "stream",
     "text": [
      "Сегодня началось изучение Data Science\n"
     ]
    }
   ],
   "source": [
    "course = \"Сегодня началось изучение \" + company\n",
    "print (course)"
   ]
  },
  {
   "cell_type": "code",
   "execution_count": 9,
   "metadata": {},
   "outputs": [
    {
     "name": "stdout",
     "output_type": "stream",
     "text": [
      "13000.0\n"
     ]
    }
   ],
   "source": [
    "zp = 100000\n",
    "nalog = 0.13\n",
    "print(zp * nalog)"
   ]
  },
  {
   "cell_type": "code",
   "execution_count": 10,
   "metadata": {},
   "outputs": [
    {
     "name": "stdout",
     "output_type": "stream",
     "text": [
      "Моя зарплата: {zp}\n"
     ]
    }
   ],
   "source": [
    "print (\"Моя зарплата: {zp}\")"
   ]
  },
  {
   "cell_type": "code",
   "execution_count": 11,
   "metadata": {},
   "outputs": [
    {
     "name": "stdout",
     "output_type": "stream",
     "text": [
      "Моя зарплата: 100000\n"
     ]
    }
   ],
   "source": [
    "print (f\"Моя зарплата: {zp}\")"
   ]
  },
  {
   "cell_type": "code",
   "execution_count": 12,
   "metadata": {},
   "outputs": [
    {
     "name": "stdout",
     "output_type": "stream",
     "text": [
      "Моя зарплата: 100000, коэфф. налог = 0.13, всего я заплачу в налоговую 13000.0\n"
     ]
    }
   ],
   "source": [
    "print (f\"Моя зарплата: {zp}, коэфф. налог = {nalog}, всего я заплачу в налоговую {zp * nalog}\")"
   ]
  },
  {
   "cell_type": "code",
   "execution_count": 13,
   "metadata": {},
   "outputs": [
    {
     "name": "stdout",
     "output_type": "stream",
     "text": [
      "[1200, 4000, 500, 900000]\n"
     ]
    }
   ],
   "source": [
    "income = [1200, 4000, 500, 900000]\n",
    "print(income)"
   ]
  },
  {
   "cell_type": "code",
   "execution_count": 14,
   "metadata": {},
   "outputs": [
    {
     "name": "stdout",
     "output_type": "stream",
     "text": [
      "Я заработал 1200\n",
      "Я заработал 4000\n",
      "Я заработал 500\n",
      "Я заработал 900000\n"
     ]
    }
   ],
   "source": [
    "for i in income:\n",
    "    print(f\"Я заработал {i}\")"
   ]
  },
  {
   "cell_type": "code",
   "execution_count": 15,
   "metadata": {},
   "outputs": [
    {
     "data": {
      "text/plain": [
       "905700"
      ]
     },
     "execution_count": 15,
     "metadata": {},
     "output_type": "execute_result"
    }
   ],
   "source": [
    "sum(income)\n",
    "#Сумма элементов массива"
   ]
  },
  {
   "cell_type": "code",
   "execution_count": 16,
   "metadata": {},
   "outputs": [
    {
     "data": {
      "text/plain": [
       "4"
      ]
     },
     "execution_count": 16,
     "metadata": {},
     "output_type": "execute_result"
    }
   ],
   "source": [
    "len (income)\n",
    "#Количество элементов или длина массива"
   ]
  },
  {
   "cell_type": "code",
   "execution_count": 17,
   "metadata": {},
   "outputs": [
    {
     "name": "stdout",
     "output_type": "stream",
     "text": [
      "В среднем я получаю по 226425.0 рублей\n"
     ]
    }
   ],
   "source": [
    "avarage_income = sum(income) / len(income)\n",
    "print(f\"В среднем я получаю по {avarage_income} рублей\")\n",
    "#Среднее значение элементов"
   ]
  },
  {
   "cell_type": "code",
   "execution_count": 23,
   "metadata": {},
   "outputs": [
    {
     "data": {
      "text/plain": [
       "[18.75, 62.5, 7.8125, 14062.5]"
      ]
     },
     "execution_count": 23,
     "metadata": {},
     "output_type": "execute_result"
    }
   ],
   "source": [
    "usd_rate = 64\n",
    "usd_zp = [i/usd_rate for i in income]\n",
    "#Значение в долларах"
   ]
  },
  {
   "cell_type": "code",
   "execution_count": 24,
   "metadata": {},
   "outputs": [
    {
     "name": "stdout",
     "output_type": "stream",
     "text": [
      "[18.75, 62.5, 7.8125, 14062.5]\n"
     ]
    }
   ],
   "source": [
    "print(usd_zp)"
   ]
  },
  {
   "cell_type": "code",
   "execution_count": null,
   "metadata": {},
   "outputs": [],
   "source": []
  },
  {
   "cell_type": "markdown",
   "metadata": {},
   "source": [
    "*Текст* **Текст** _Текст_ #Markdown - язык разметки"
   ]
  },
  {
   "cell_type": "raw",
   "metadata": {},
   "source": [
    "#Будем изучать Pandas"
   ]
  },
  {
   "cell_type": "code",
   "execution_count": 1,
   "metadata": {},
   "outputs": [],
   "source": [
    "import pandas as pd"
   ]
  },
  {
   "cell_type": "code",
   "execution_count": 3,
   "metadata": {},
   "outputs": [],
   "source": [
    "exchange_rate = pd.read_excel(\"usd_exchange_rate.xlsx\") #Датафрейм"
   ]
  },
  {
   "cell_type": "code",
   "execution_count": 4,
   "metadata": {},
   "outputs": [
    {
     "data": {
      "text/html": [
       "<div>\n",
       "<style scoped>\n",
       "    .dataframe tbody tr th:only-of-type {\n",
       "        vertical-align: middle;\n",
       "    }\n",
       "\n",
       "    .dataframe tbody tr th {\n",
       "        vertical-align: top;\n",
       "    }\n",
       "\n",
       "    .dataframe thead th {\n",
       "        text-align: right;\n",
       "    }\n",
       "</style>\n",
       "<table border=\"1\" class=\"dataframe\">\n",
       "  <thead>\n",
       "    <tr style=\"text-align: right;\">\n",
       "      <th></th>\n",
       "      <th>nominal</th>\n",
       "      <th>data</th>\n",
       "      <th>curs</th>\n",
       "      <th>cdx</th>\n",
       "    </tr>\n",
       "  </thead>\n",
       "  <tbody>\n",
       "    <tr>\n",
       "      <td>0</td>\n",
       "      <td>1</td>\n",
       "      <td>2018-01-10</td>\n",
       "      <td>57.0463</td>\n",
       "      <td>Доллар США</td>\n",
       "    </tr>\n",
       "    <tr>\n",
       "      <td>1</td>\n",
       "      <td>1</td>\n",
       "      <td>2018-01-11</td>\n",
       "      <td>56.8734</td>\n",
       "      <td>Доллар США</td>\n",
       "    </tr>\n",
       "    <tr>\n",
       "      <td>2</td>\n",
       "      <td>1</td>\n",
       "      <td>2018-01-12</td>\n",
       "      <td>56.9957</td>\n",
       "      <td>Доллар США</td>\n",
       "    </tr>\n",
       "    <tr>\n",
       "      <td>3</td>\n",
       "      <td>1</td>\n",
       "      <td>2018-01-13</td>\n",
       "      <td>56.6019</td>\n",
       "      <td>Доллар США</td>\n",
       "    </tr>\n",
       "    <tr>\n",
       "      <td>4</td>\n",
       "      <td>1</td>\n",
       "      <td>2018-01-16</td>\n",
       "      <td>56.3569</td>\n",
       "      <td>Доллар США</td>\n",
       "    </tr>\n",
       "    <tr>\n",
       "      <td>...</td>\n",
       "      <td>...</td>\n",
       "      <td>...</td>\n",
       "      <td>...</td>\n",
       "      <td>...</td>\n",
       "    </tr>\n",
       "    <tr>\n",
       "      <td>516</td>\n",
       "      <td>1</td>\n",
       "      <td>2020-02-11</td>\n",
       "      <td>63.7708</td>\n",
       "      <td>Доллар США</td>\n",
       "    </tr>\n",
       "    <tr>\n",
       "      <td>517</td>\n",
       "      <td>1</td>\n",
       "      <td>2020-02-12</td>\n",
       "      <td>63.9490</td>\n",
       "      <td>Доллар США</td>\n",
       "    </tr>\n",
       "    <tr>\n",
       "      <td>518</td>\n",
       "      <td>1</td>\n",
       "      <td>2020-02-13</td>\n",
       "      <td>63.0470</td>\n",
       "      <td>Доллар США</td>\n",
       "    </tr>\n",
       "    <tr>\n",
       "      <td>519</td>\n",
       "      <td>1</td>\n",
       "      <td>2020-02-14</td>\n",
       "      <td>63.6016</td>\n",
       "      <td>Доллар США</td>\n",
       "    </tr>\n",
       "    <tr>\n",
       "      <td>520</td>\n",
       "      <td>1</td>\n",
       "      <td>2020-02-15</td>\n",
       "      <td>63.4536</td>\n",
       "      <td>Доллар США</td>\n",
       "    </tr>\n",
       "  </tbody>\n",
       "</table>\n",
       "<p>521 rows × 4 columns</p>\n",
       "</div>"
      ],
      "text/plain": [
       "     nominal       data     curs         cdx\n",
       "0          1 2018-01-10  57.0463  Доллар США\n",
       "1          1 2018-01-11  56.8734  Доллар США\n",
       "2          1 2018-01-12  56.9957  Доллар США\n",
       "3          1 2018-01-13  56.6019  Доллар США\n",
       "4          1 2018-01-16  56.3569  Доллар США\n",
       "..       ...        ...      ...         ...\n",
       "516        1 2020-02-11  63.7708  Доллар США\n",
       "517        1 2020-02-12  63.9490  Доллар США\n",
       "518        1 2020-02-13  63.0470  Доллар США\n",
       "519        1 2020-02-14  63.6016  Доллар США\n",
       "520        1 2020-02-15  63.4536  Доллар США\n",
       "\n",
       "[521 rows x 4 columns]"
      ]
     },
     "execution_count": 4,
     "metadata": {},
     "output_type": "execute_result"
    }
   ],
   "source": [
    "exchange_rate"
   ]
  },
  {
   "cell_type": "code",
   "execution_count": 5,
   "metadata": {},
   "outputs": [
    {
     "data": {
      "text/plain": [
       "0      57.0463\n",
       "1      56.8734\n",
       "2      56.9957\n",
       "3      56.6019\n",
       "4      56.3569\n",
       "        ...   \n",
       "516    63.7708\n",
       "517    63.9490\n",
       "518    63.0470\n",
       "519    63.6016\n",
       "520    63.4536\n",
       "Name: curs, Length: 521, dtype: float64"
      ]
     },
     "execution_count": 5,
     "metadata": {},
     "output_type": "execute_result"
    }
   ],
   "source": [
    "exchange_rate.curs"
   ]
  },
  {
   "cell_type": "code",
   "execution_count": 7,
   "metadata": {},
   "outputs": [],
   "source": [
    "exchange_rate[\"curs_v_kopeykah\"] = exchange_rate.curs * 100\n",
    "#В копейках"
   ]
  },
  {
   "cell_type": "code",
   "execution_count": 8,
   "metadata": {},
   "outputs": [
    {
     "data": {
      "text/html": [
       "<div>\n",
       "<style scoped>\n",
       "    .dataframe tbody tr th:only-of-type {\n",
       "        vertical-align: middle;\n",
       "    }\n",
       "\n",
       "    .dataframe tbody tr th {\n",
       "        vertical-align: top;\n",
       "    }\n",
       "\n",
       "    .dataframe thead th {\n",
       "        text-align: right;\n",
       "    }\n",
       "</style>\n",
       "<table border=\"1\" class=\"dataframe\">\n",
       "  <thead>\n",
       "    <tr style=\"text-align: right;\">\n",
       "      <th></th>\n",
       "      <th>nominal</th>\n",
       "      <th>data</th>\n",
       "      <th>curs</th>\n",
       "      <th>cdx</th>\n",
       "      <th>curs_v_kopeykah</th>\n",
       "    </tr>\n",
       "  </thead>\n",
       "  <tbody>\n",
       "    <tr>\n",
       "      <td>0</td>\n",
       "      <td>1</td>\n",
       "      <td>2018-01-10</td>\n",
       "      <td>57.0463</td>\n",
       "      <td>Доллар США</td>\n",
       "      <td>5704.63</td>\n",
       "    </tr>\n",
       "    <tr>\n",
       "      <td>1</td>\n",
       "      <td>1</td>\n",
       "      <td>2018-01-11</td>\n",
       "      <td>56.8734</td>\n",
       "      <td>Доллар США</td>\n",
       "      <td>5687.34</td>\n",
       "    </tr>\n",
       "    <tr>\n",
       "      <td>2</td>\n",
       "      <td>1</td>\n",
       "      <td>2018-01-12</td>\n",
       "      <td>56.9957</td>\n",
       "      <td>Доллар США</td>\n",
       "      <td>5699.57</td>\n",
       "    </tr>\n",
       "    <tr>\n",
       "      <td>3</td>\n",
       "      <td>1</td>\n",
       "      <td>2018-01-13</td>\n",
       "      <td>56.6019</td>\n",
       "      <td>Доллар США</td>\n",
       "      <td>5660.19</td>\n",
       "    </tr>\n",
       "    <tr>\n",
       "      <td>4</td>\n",
       "      <td>1</td>\n",
       "      <td>2018-01-16</td>\n",
       "      <td>56.3569</td>\n",
       "      <td>Доллар США</td>\n",
       "      <td>5635.69</td>\n",
       "    </tr>\n",
       "    <tr>\n",
       "      <td>...</td>\n",
       "      <td>...</td>\n",
       "      <td>...</td>\n",
       "      <td>...</td>\n",
       "      <td>...</td>\n",
       "      <td>...</td>\n",
       "    </tr>\n",
       "    <tr>\n",
       "      <td>516</td>\n",
       "      <td>1</td>\n",
       "      <td>2020-02-11</td>\n",
       "      <td>63.7708</td>\n",
       "      <td>Доллар США</td>\n",
       "      <td>6377.08</td>\n",
       "    </tr>\n",
       "    <tr>\n",
       "      <td>517</td>\n",
       "      <td>1</td>\n",
       "      <td>2020-02-12</td>\n",
       "      <td>63.9490</td>\n",
       "      <td>Доллар США</td>\n",
       "      <td>6394.90</td>\n",
       "    </tr>\n",
       "    <tr>\n",
       "      <td>518</td>\n",
       "      <td>1</td>\n",
       "      <td>2020-02-13</td>\n",
       "      <td>63.0470</td>\n",
       "      <td>Доллар США</td>\n",
       "      <td>6304.70</td>\n",
       "    </tr>\n",
       "    <tr>\n",
       "      <td>519</td>\n",
       "      <td>1</td>\n",
       "      <td>2020-02-14</td>\n",
       "      <td>63.6016</td>\n",
       "      <td>Доллар США</td>\n",
       "      <td>6360.16</td>\n",
       "    </tr>\n",
       "    <tr>\n",
       "      <td>520</td>\n",
       "      <td>1</td>\n",
       "      <td>2020-02-15</td>\n",
       "      <td>63.4536</td>\n",
       "      <td>Доллар США</td>\n",
       "      <td>6345.36</td>\n",
       "    </tr>\n",
       "  </tbody>\n",
       "</table>\n",
       "<p>521 rows × 5 columns</p>\n",
       "</div>"
      ],
      "text/plain": [
       "     nominal       data     curs         cdx  curs_v_kopeykah\n",
       "0          1 2018-01-10  57.0463  Доллар США          5704.63\n",
       "1          1 2018-01-11  56.8734  Доллар США          5687.34\n",
       "2          1 2018-01-12  56.9957  Доллар США          5699.57\n",
       "3          1 2018-01-13  56.6019  Доллар США          5660.19\n",
       "4          1 2018-01-16  56.3569  Доллар США          5635.69\n",
       "..       ...        ...      ...         ...              ...\n",
       "516        1 2020-02-11  63.7708  Доллар США          6377.08\n",
       "517        1 2020-02-12  63.9490  Доллар США          6394.90\n",
       "518        1 2020-02-13  63.0470  Доллар США          6304.70\n",
       "519        1 2020-02-14  63.6016  Доллар США          6360.16\n",
       "520        1 2020-02-15  63.4536  Доллар США          6345.36\n",
       "\n",
       "[521 rows x 5 columns]"
      ]
     },
     "execution_count": 8,
     "metadata": {},
     "output_type": "execute_result"
    }
   ],
   "source": [
    "exchange_rate"
   ]
  },
  {
   "cell_type": "code",
   "execution_count": 11,
   "metadata": {},
   "outputs": [
    {
     "data": {
      "text/plain": [
       "<matplotlib.axes._subplots.AxesSubplot at 0x13980a19448>"
      ]
     },
     "execution_count": 11,
     "metadata": {},
     "output_type": "execute_result"
    },
    {
     "data": {
      "image/png": "[encoded data removed]",
      "text/plain": [
       "<Figure size 432x288 with 1 Axes>"
      ]
     },
     "metadata": {
      "needs_background": "light"
     },
     "output_type": "display_data"
    }
   ],
   "source": [
    "exchange_rate.curs.plot()"
   ]
  },
  {
   "cell_type": "code",
   "execution_count": 19,
   "metadata": {},
   "outputs": [
    {
     "data": {
      "text/plain": [
       "count    521.000000\n",
       "mean      63.699629\n",
       "std        3.046102\n",
       "min       55.671700\n",
       "25%       62.593700\n",
       "50%       64.068300\n",
       "75%       65.750800\n",
       "max       69.974400\n",
       "Name: curs, dtype: float64"
      ]
     },
     "execution_count": 19,
     "metadata": {},
     "output_type": "execute_result"
    }
   ],
   "source": [
    "exchange_rate.curs.describe()"
   ]
  },
  {
   "cell_type": "code",
   "execution_count": 20,
   "metadata": {},
   "outputs": [
    {
     "data": {
      "text/plain": [
       "<matplotlib.axes._subplots.AxesSubplot at 0x13981075808>"
      ]
     },
     "execution_count": 20,
     "metadata": {},
     "output_type": "execute_result"
    },
    {
     "data": {
      "image/png": "[encoded data removed]",
      "text/plain": [
       "<Figure size 432x288 with 1 Axes>"
      ]
     },
     "metadata": {
      "needs_background": "light"
     },
     "output_type": "display_data"
    }
   ],
   "source": [
    "exchange_rate.data.plot()"
   ]
  },
  {
   "cell_type": "raw",
   "metadata": {},
   "source": []
  },
  {
   "cell_type": "code",
   "execution_count": 21,
   "metadata": {},
   "outputs": [
    {
     "data": {
      "text/plain": [
       "count                     521\n",
       "unique                    521\n",
       "top       2019-02-21 00:00:00\n",
       "freq                        1\n",
       "first     2018-01-10 00:00:00\n",
       "last      2020-02-15 00:00:00\n",
       "Name: data, dtype: object"
      ]
     },
     "execution_count": 21,
     "metadata": {},
     "output_type": "execute_result"
    }
   ],
   "source": [
    "exchange_rate.data.describe()"
   ]
  },
  {
   "cell_type": "code",
   "execution_count": 22,
   "metadata": {},
   "outputs": [
    {
     "data": {
      "text/plain": [
       "<matplotlib.axes._subplots.AxesSubplot at 0x13981676688>"
      ]
     },
     "execution_count": 22,
     "metadata": {},
     "output_type": "execute_result"
    },
    {
     "data": {
      "image/png": "[encoded data removed]",
      "text/plain": [
       "<Figure size 432x288 with 1 Axes>"
      ]
     },
     "metadata": {
      "needs_background": "light"
     },
     "output_type": "display_data"
    }
   ],
   "source": [
    "exchange_rate.curs_v_kopeykah.plot()"
   ]
  },
  {
   "cell_type": "code",
   "execution_count": 23,
   "metadata": {},
   "outputs": [
    {
     "data": {
      "text/plain": [
       "count     521.000000\n",
       "mean     6369.962898\n",
       "std       304.610186\n",
       "min      5567.170000\n",
       "25%      6259.370000\n",
       "50%      6406.830000\n",
       "75%      6575.080000\n",
       "max      6997.440000\n",
       "Name: curs_v_kopeykah, dtype: float64"
      ]
     },
     "execution_count": 23,
     "metadata": {},
     "output_type": "execute_result"
    }
   ],
   "source": [
    "exchange_rate.curs_v_kopeykah.describe()"
   ]
  },
  {
   "cell_type": "code",
   "execution_count": null,
   "metadata": {},
   "outputs": [],
   "source": []
  }
 ],
 "metadata": {
  "kernelspec": {
   "display_name": "Python 3",
   "language": "python",
   "name": "python3"
  },
  "language_info": {
   "codemirror_mode": {
    "name": "ipython",
    "version": 3
   },
   "file_extension": ".py",
   "mimetype": "text/x-python",
   "name": "python",
   "nbconvert_exporter": "python",
   "pygments_lexer": "ipython3",
   "version": "3.7.4"
  }
 },
 "nbformat": 4,
 "nbformat_minor": 4
}

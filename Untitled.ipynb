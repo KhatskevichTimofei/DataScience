{
 "cells": [
  {
   "cell_type": "code",
   "execution_count": 2,
   "metadata": {},
   "outputs": [
    {
     "name": "stdout",
     "output_type": "stream",
     "text": [
      "Hello World\n"
     ]
    }
   ],
   "source": [
    "print (\"Hello World\")"
   ]
  },
  {
   "cell_type": "code",
   "execution_count": 3,
   "metadata": {},
   "outputs": [],
   "source": [
    "#Shift + Enter - выполняет код\n",
    "#Комментарий, не имеет отношения к коду"
   ]
  },
  {
   "cell_type": "code",
   "execution_count": 4,
   "metadata": {},
   "outputs": [
    {
     "name": "stdout",
     "output_type": "stream",
     "text": [
      "Сегодня 11 февраля 2020 года\n",
      "Завтра 12 февраля 2020 года\n",
      "Вчера 10 февраля 2020 года\n",
      "Сегодня началось изучение Data Science\n"
     ]
    }
   ],
   "source": [
    "print (\"Сегодня 11 февраля 2020 года\")\n",
    "print (\"Завтра 12 февраля 2020 года\")\n",
    "print (\"Вчера 10 февраля 2020 года\")\n",
    "print (\"Сегодня началось изучение Data Science\")"
   ]
  },
  {
   "cell_type": "code",
   "execution_count": 7,
   "metadata": {},
   "outputs": [],
   "source": [
    "company = \"Data Science\""
   ]
  },
  {
   "cell_type": "code",
   "execution_count": 8,
   "metadata": {},
   "outputs": [
    {
     "name": "stdout",
     "output_type": "stream",
     "text": [
      "Сегодня началось изучение Data Science\n"
     ]
    }
   ],
   "source": [
    "course = \"Сегодня началось изучение \" + company\n",
    "print (course)"
   ]
  },
  {
   "cell_type": "code",
   "execution_count": 9,
   "metadata": {},
   "outputs": [
    {
     "name": "stdout",
     "output_type": "stream",
     "text": [
      "13000.0\n"
     ]
    }
   ],
   "source": [
    "zp = 100000\n",
    "nalog = 0.13\n",
    "print(zp * nalog)"
   ]
  },
  {
   "cell_type": "code",
   "execution_count": 10,
   "metadata": {},
   "outputs": [
    {
     "name": "stdout",
     "output_type": "stream",
     "text": [
      "Моя зарплата: {zp}\n"
     ]
    }
   ],
   "source": [
    "print (\"Моя зарплата: {zp}\")"
   ]
  },
  {
   "cell_type": "code",
   "execution_count": 11,
   "metadata": {},
   "outputs": [
    {
     "name": "stdout",
     "output_type": "stream",
     "text": [
      "Моя зарплата: 100000\n"
     ]
    }
   ],
   "source": [
    "print (f\"Моя зарплата: {zp}\")"
   ]
  },
  {
   "cell_type": "code",
   "execution_count": 12,
   "metadata": {},
   "outputs": [
    {
     "name": "stdout",
     "output_type": "stream",
     "text": [
      "Моя зарплата: 100000, коэфф. налог = 0.13, всего я заплачу в налоговую 13000.0\n"
     ]
    }
   ],
   "source": [
    "print (f\"Моя зарплата: {zp}, коэфф. налог = {nalog}, всего я заплачу в налоговую {zp * nalog}\")"
   ]
  },
  {
   "cell_type": "code",
   "execution_count": 13,
   "metadata": {},
   "outputs": [
    {
     "name": "stdout",
     "output_type": "stream",
     "text": [
      "[1200, 4000, 500, 900000]\n"
     ]
    }
   ],
   "source": [
    "income = [1200, 4000, 500, 900000]\n",
    "print(income)"
   ]
  },
  {
   "cell_type": "code",
   "execution_count": 14,
   "metadata": {},
   "outputs": [
    {
     "name": "stdout",
     "output_type": "stream",
     "text": [
      "Я заработал 1200\n",
      "Я заработал 4000\n",
      "Я заработал 500\n",
      "Я заработал 900000\n"
     ]
    }
   ],
   "source": [
    "for i in income:\n",
    "    print(f\"Я заработал {i}\")"
   ]
  },
  {
   "cell_type": "code",
   "execution_count": 15,
   "metadata": {},
   "outputs": [
    {
     "data": {
      "text/plain": [
       "905700"
      ]
     },
     "execution_count": 15,
     "metadata": {},
     "output_type": "execute_result"
    }
   ],
   "source": [
    "sum(income)"
   ]
  },
  {
   "cell_type": "code",
   "execution_count": 16,
   "metadata": {},
   "outputs": [
    {
     "data": {
      "text/plain": [
       "4"
      ]
     },
     "execution_count": 16,
     "metadata": {},
     "output_type": "execute_result"
    }
   ],
   "source": [
    "len (income)"
   ]
  },
  {
   "cell_type": "code",
   "execution_count": 17,
   "metadata": {},
   "outputs": [
    {
     "name": "stdout",
     "output_type": "stream",
     "text": [
      "В среднем я получаю по 226425.0 рублей\n"
     ]
    }
   ],
   "source": [
    "avarage_income = sum(income) / len(income)\n",
    "print(f\"В среднем я получаю по {avarage_income} рублей\")"
   ]
  },
  {
   "cell_type": "code",
   "execution_count": 23,
   "metadata": {},
   "outputs": [
    {
     "data": {
      "text/plain": [
       "[18.75, 62.5, 7.8125, 14062.5]"
      ]
     },
     "execution_count": 23,
     "metadata": {},
     "output_type": "execute_result"
    }
   ],
   "source": [
    "usd_rate = 64\n",
    "usd_zp = [i/usd_rate for i in income]"
   ]
  },
  {
   "cell_type": "code",
   "execution_count": 24,
   "metadata": {},
   "outputs": [
    {
     "name": "stdout",
     "output_type": "stream",
     "text": [
      "[18.75, 62.5, 7.8125, 14062.5]\n"
     ]
    }
   ],
   "source": [
    "print(usd_zp)"
   ]
  },
  {
   "cell_type": "code",
   "execution_count": null,
   "metadata": {},
   "outputs": [],
   "source": []
  }
 ],
 "metadata": {
  "kernelspec": {
   "display_name": "Python 3",
   "language": "python",
   "name": "python3"
  },
  "language_info": {
   "codemirror_mode": {
    "name": "ipython",
    "version": 3
   },
   "file_extension": ".py",
   "mimetype": "text/x-python",
   "name": "python",
   "nbconvert_exporter": "python",
   "pygments_lexer": "ipython3",
   "version": "3.7.4"
  }
 },
 "nbformat": 4,
 "nbformat_minor": 4
}
